{
 "cells": [
  {
   "cell_type": "code",
   "execution_count": 1,
   "id": "0d0360f9",
   "metadata": {},
   "outputs": [],
   "source": [
    "##=============================================================================\n",
    "## ACMAscrapper V2.0.2\n",
    "##=============================================================================\n",
    "##=============================================================================\n",
    "##\n",
    "## Scrapper for Register of Radiocommunications Licences of Australian Communications and Media Authority\n",
    "# \n",
    "#@Author Haris Hassan\n",
    "#@Email haris.hassan@radhaz.com.au \n",
    "#@linkedin https://www.linkedin.com/in/hassanharis/\n",
    "#\n",
    "##=============================================================================\n",
    "# Import libraries\n",
    "import requests\n",
    "from bs4 import BeautifulSoup\n",
    "import pandas as pd\n",
    "pd.set_option('display.max_colwidth', None)"
   ]
  },
  {
   "cell_type": "code",
   "execution_count": 2,
   "id": "ae108a34",
   "metadata": {},
   "outputs": [],
   "source": [
    "####Replace Site URL\n",
    "site_url = 'https://web.acma.gov.au/pls/radcom/site_search.site_lookup?pSITE_ID=402015'"
   ]
  },
  {
   "cell_type": "code",
   "execution_count": 3,
   "id": "ff31370b",
   "metadata": {},
   "outputs": [],
   "source": [
    "ACMApage = requests.get(site_url)\n",
    "soup = BeautifulSoup(ACMApage.text, 'lxml')\n",
    "table1 = soup.find('table',{\"class\": \"tablelist responsive\"})"
   ]
  },
  {
   "cell_type": "code",
   "execution_count": 4,
   "id": "22816879",
   "metadata": {},
   "outputs": [],
   "source": [
    "ACMAtable = soup.find('table',{\"class\": \"tablelist responsive\"})\n",
    "ACMAheaders = [td.text.strip() for td in ACMAtable.select('th')]\n",
    "ACMAdata = pd.DataFrame(columns = ACMAheaders)\n",
    "\n",
    "ACMAlinks = []\n",
    "for j in ACMAtable.find_all('tr')[1:]:\n",
    "    ACMAValues = [tv.text.strip() for tv in j.find_all('td')]\n",
    "    ACMAdata.loc[len(ACMAdata)] = ACMAValues\n",
    "    ACMAlinks.append([tl.get('href') for tl in j.find_all('a')][0])\n",
    "ACMAdata.insert(1,'links', ACMAlinks )"
   ]
  },
  {
   "cell_type": "code",
   "execution_count": 5,
   "id": "bd71b82f",
   "metadata": {},
   "outputs": [],
   "source": [
    "ACMAdatalinks = list( dict.fromkeys(ACMAdata['links']) )"
   ]
  },
  {
   "cell_type": "code",
   "execution_count": 6,
   "id": "e9072ab6",
   "metadata": {},
   "outputs": [],
   "source": [
    "AntennaTableHeader = ['Licence Number', 'Antenna', 'Client','Device Type','Emission Center Frequency','Transmitter Power','Antenna Height (AGL)', \n",
    "                      'Antenna Polarisation','Antenna Azimuth', 'Antenna Tilt','Device Registration ID','Date Authorised']\n",
    "AntennaTable = pd.DataFrame(columns = AntennaTableHeader)\n",
    "\n",
    "\n",
    "for acmalink in ACMAdatalinks:\n",
    "    url = 'https://web.acma.gov.au'+ acmalink\n",
    "    page = requests.get(url)\n",
    "    soup2 = BeautifulSoup(page.text, 'lxml')\n",
    "    \n",
    "    Antennaheaders = [td.text for td in soup2.select_one('table',{\"class\": \"tabledetail\"}).select('td:nth-of-type(1)') if not td.has_attr('colspan')]\n",
    "    AntennaValues = [td.text.strip() for td in soup2.select_one('table',{\"class\": \"tabledetail\"}).select('td:nth-of-type(2)')]\n",
    "    \n",
    "    if url[-2:]=='/1':\n",
    "        Antennaheaders2 = [td.text for td in soup2.select_one('table:nth-of-type(2)',{\"class\": \"tabledetail\"}).select('td:nth-of-type(1)') if not td.has_attr('colspan')]\n",
    "        AntennaValues2 = [td.text.strip() for td in soup2.select_one('table:nth-of-type(2)',{\"class\": \"tabledetail\"}).select('td:nth-of-type(2)')]\n",
    "    \n",
    "    AntennaDictionary = {Antennaheaders[i]: AntennaValues[i] for i in range(len(Antennaheaders))}\n",
    "    AntennaTable_toAdd = pd.DataFrame([AntennaDictionary])\n",
    "    AntennaTable = pd.concat([AntennaTable, AntennaTable_toAdd], ignore_index=True)\n",
    "    \n",
    "    if url[-2:]=='/1':\n",
    "        AntennaTable_toAdd2 = pd.DataFrame([{Antennaheaders2[i]: AntennaValues2[i] for i in range(len(Antennaheaders))}])\n",
    "        AntennaTable = pd.concat([AntennaTable, AntennaTable_toAdd2], ignore_index=True)"
   ]
  },
  {
   "cell_type": "code",
   "execution_count": 7,
   "id": "4dde1ef7",
   "metadata": {},
   "outputs": [],
   "source": [
    "display(AntennaTable[AntennaTableHeader])"
   ]
  },
  {
   "cell_type": "code",
   "execution_count": 8,
   "id": "daf87b09",
   "metadata": {},
   "outputs": [],
   "source": [
    "AntennaTable.to_excel(r'C:\\Users\\Mewtwo\\Desktop'+'\\\\'+ AntennaDictionary['Site'] + '.xlsx', columns = AntennaTableHeader, index=False)"
   ]
  }
 ],
 "metadata": {},
 "nbformat": 4,
 "nbformat_minor": 5
}
