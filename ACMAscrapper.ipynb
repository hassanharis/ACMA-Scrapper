{
 "cells": [
  {
   "cell_type": "code",
   "execution_count": 467,
   "id": "dbf8f62f-c03f-463e-9bef-7f958f3037fb",
   "metadata": {},
   "outputs": [],
   "source": [
    "##=============================================================================\n",
    "## ACMAscrapper V1.0.2\n",
    "##=============================================================================\n",
    "##=============================================================================\n",
    "##\n",
    "## Scrapper for Register of Radiocommunications Licences of Australian Communications and Media Authority\n",
    "# \n",
    "#@Author Haris Hassan\n",
    "#@Email haris.hassan@radhaz.com.au \n",
    "#@linkedin https://www.linkedin.com/in/hassanharis/\n",
    "#\n",
    "##=============================================================================\n",
    "\n",
    "# Import libraries\n",
    "import requests\n",
    "from bs4 import BeautifulSoup\n",
    "import pandas as pd\n",
    "pd.set_option('display.max_colwidth', None)"
   ]
  },
  {
   "cell_type": "code",
   "execution_count": null,
   "id": "e7f3e9a8-b1e3-465b-8625-eb5955d7fc00",
   "metadata": {},
   "outputs": [],
   "source": [
    "####Replace Site URL\n",
    "site_url = 'https://web.acma.gov.au/pls/radcom/site_search.site_lookup?pSITE_ID=9020746'"
   ]
  },
  {
   "cell_type": "code",
   "execution_count": null,
   "id": "495cb178-94c1-4d8e-829d-808aeca692fc",
   "metadata": {},
   "outputs": [],
   "source": [
    "ACMApage = requests.get(site_url)\n",
    "soup = BeautifulSoup(ACMApage.text, 'lxml')\n",
    "table1 = soup.find('table',{\"class\": \"tablelist responsive\"})"
   ]
  },
  {
   "cell_type": "code",
   "execution_count": 536,
   "id": "8c6a44e9-cfb1-45c8-a6e6-3b48adc08273",
   "metadata": {},
   "outputs": [],
   "source": [
    "ACMAtable = soup.find('table',{\"class\": \"tablelist responsive\"})\n",
    "#links= [linkitem.get('href') for linkitem in table1.find_all('a', attrs={\"title\": \"Assignment Details\"})[1:]]\n",
    "ACMAheaders = [td.text.strip() for td in ACMAtable.select('th')]\n",
    "ACMAdata = pd.DataFrame(columns = ACMAheaders)\n",
    "\n",
    "ACMAlinks = []\n",
    "for j in ACMAtable.find_all('tr')[1:]:\n",
    "    ACMAValues = [tv.text.strip() for tv in j.find_all('td')]\n",
    "    ACMAdata.loc[len(ACMAdata)] = ACMAValues\n",
    "    ACMAlinks.append([tl.get('href') for tl in j.find_all('a')][0])\n",
    "ACMAdata.insert(1,'links', ACMAlinks )"
   ]
  },
  {
   "cell_type": "code",
   "execution_count": 537,
   "id": "3cca65b8-cd0c-485e-b1e4-574302ab9c62",
   "metadata": {},
   "outputs": [],
   "source": [
    "AntennaTableHeader = ['Licence Number', 'Device Registration ID', 'Client', 'Date Authorised', 'Device Type','Emission Center Frequency', 'Antenna', 'Antenna Height (AGL)', 'Antenna Polarisation','Antenna Azimuth', 'Antenna Tilt']\n",
    "AntennaTable = pd.DataFrame(columns = AntennaTableHeader)\n",
    "\n",
    "for acmalink in ACMAdata['links']:\n",
    "    url = 'https://web.acma.gov.au'+ acmalink\n",
    "    # Create object page\n",
    "    page = requests.get(url)\n",
    "    soup2 = BeautifulSoup(page.text, 'lxml')\n",
    "    Antennaheaders = [td.text for td in soup2.select_one('table',{\"class\": \"tabledetail\"}).select('td:nth-of-type(1)')]\n",
    "    AntennaValues = [td.text.strip() for td in soup2.select_one('table',{\"class\": \"tabledetail\"}).select('td:nth-of-type(2)')]\n",
    "    results = []\n",
    "    if 'Registration and Application Details - 1' in Antennaheaders:\n",
    "        Antennaheaders.remove('Registration and Application Details - 1')\n",
    "    if 'Receiver Details' in Antennaheaders:\n",
    "        Antennaheaders.remove('Receiver Details')\n",
    "    if 'Registration and Application Details' in Antennaheaders:\n",
    "        Antennaheaders.remove('Registration and Application Details')\n",
    "    if 'Transmitter Details' in Antennaheaders:\n",
    "        Antennaheaders.remove('Transmitter Details')\n",
    "\n",
    "\n",
    "    AntennaDictionary = {Antennaheaders[i]: AntennaValues[i] for i in range(len(Antennaheaders))}\n",
    "    AntennaTable_toAdd = pd.DataFrame([AntennaDictionary])\n",
    "    AntennaTable = pd.concat([AntennaTable, AntennaTable_toAdd], ignore_index=True)\n",
    "    #print(output.head())\n",
    "    \n",
    "    #AntennaTable = AntennaTable.append(AntennaDictionary, ignore_index=True)\n"
   ]
  },
  {
   "cell_type": "code",
   "execution_count": 538,
   "id": "d76882b4-d2cc-4da8-8dc8-68dc2a9f9582",
   "metadata": {},
   "outputs": [
    {
     "data": {
      "text/html": [
       "<div>\n",
       "<style scoped>\n",
       "    .dataframe tbody tr th:only-of-type {\n",
       "        vertical-align: middle;\n",
       "    }\n",
       "\n",
       "    .dataframe tbody tr th {\n",
       "        vertical-align: top;\n",
       "    }\n",
       "\n",
       "    .dataframe thead th {\n",
       "        text-align: right;\n",
       "    }\n",
       "</style>\n",
       "<table border=\"1\" class=\"dataframe\">\n",
       "  <thead>\n",
       "    <tr style=\"text-align: right;\">\n",
       "      <th></th>\n",
       "      <th>Licence Number</th>\n",
       "      <th>Device Registration ID</th>\n",
       "      <th>Client</th>\n",
       "      <th>Date Authorised</th>\n",
       "      <th>Device Type</th>\n",
       "      <th>Emission Center Frequency</th>\n",
       "      <th>Antenna</th>\n",
       "      <th>Antenna Height (AGL)</th>\n",
       "      <th>Antenna Polarisation</th>\n",
       "      <th>Antenna Azimuth</th>\n",
       "      <th>Antenna Tilt</th>\n",
       "    </tr>\n",
       "  </thead>\n",
       "  <tbody>\n",
       "    <tr>\n",
       "      <th>0</th>\n",
       "      <td>10143562</td>\n",
       "      <td>11752611</td>\n",
       "      <td>Optus Mobile Pty Limited</td>\n",
       "      <td>25/Aug/2022</td>\n",
       "      <td>Receiver</td>\n",
       "      <td>1.95 GHz</td>\n",
       "      <td>Panel(1sector), RRZZT4S4-65B-R6_2100, Commscope</td>\n",
       "      <td>20.77 m</td>\n",
       "      <td>Slant</td>\n",
       "      <td>330°</td>\n",
       "      <td>0°</td>\n",
       "    </tr>\n",
       "  </tbody>\n",
       "</table>\n",
       "</div>"
      ],
      "text/plain": [
       "  Licence Number Device Registration ID                    Client  \\\n",
       "0       10143562               11752611  Optus Mobile Pty Limited   \n",
       "\n",
       "  Date Authorised Device Type Emission Center Frequency  \\\n",
       "0     25/Aug/2022    Receiver                  1.95 GHz   \n",
       "\n",
       "                                           Antenna Antenna Height (AGL)  \\\n",
       "0  Panel(1sector), RRZZT4S4-65B-R6_2100, Commscope              20.77 m   \n",
       "\n",
       "  Antenna Polarisation Antenna Azimuth Antenna Tilt  \n",
       "0                Slant            330°           0°  "
      ]
     },
     "metadata": {},
     "output_type": "display_data"
    }
   ],
   "source": [
    "display(AntennaTable[AntennaTableHeader])"
   ]
  },
  {
   "cell_type": "code",
   "execution_count": 541,
   "id": "53863af6-89e8-4efa-aae4-d548353ad645",
   "metadata": {},
   "outputs": [],
   "source": [
    "AntennaTable.to_excel(\"output.xlsx\") "
   ]
  },
  {
   "cell_type": "code",
   "execution_count": 543,
   "id": "f0df4c17-2491-4efc-876b-7395e32c4c8e",
   "metadata": {},
   "outputs": [],
   "source": [
    "%notebook \"C:\\Users\\Mewtwo\\Documents\\Python\\ACMAscrapper.ipynb\"\n"
   ]
  },
  {
   "cell_type": "code",
   "execution_count": null,
   "id": "9c7e9202-fa3b-44f3-bd9d-cede8cd940b1",
   "metadata": {},
   "outputs": [],
   "source": []
  }
 ],
 "metadata": {
  "kernelspec": {
   "display_name": "Python 3",
   "language": "python",
   "name": "python3"
  },
  "language_info": {
   "codemirror_mode": {
    "name": "ipython",
    "version": 3
   },
   "file_extension": ".py",
   "mimetype": "text/x-python",
   "name": "python",
   "nbconvert_exporter": "python",
   "pygments_lexer": "ipython3",
   "version": "3.7.16"
  }
 },
 "nbformat": 4,
 "nbformat_minor": 5
}
