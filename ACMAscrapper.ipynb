{
 "cells": [
  {
   "cell_type": "code",
   "execution_count": 1,
   "id": "2a7aa437",
   "metadata": {},
   "outputs": [],
   "source": [
    "AntennaTableHeader = ['Licence Number', 'Antenna', 'Client','Device Type','Emission Center Frequency','Transmitter Power','Antenna Height (AGL)', \n",
    "                      'Antenna Polarisation','Antenna Azimuth', 'Antenna Tilt','Device Registration ID','Date Authorised']\n",
    "AntennaTable = pd.DataFrame(columns = AntennaTableHeader)\n",
    "\n",
    "\n",
    "for acmalink in ACMAdatalinks:\n",
    "    url = 'https://web.acma.gov.au'+ acmalink\n",
    "    # Create object page\n",
    "    page = requests.get(url)\n",
    "    soup2 = BeautifulSoup(page.text, 'lxml')\n",
    "    \n",
    "    Antennaheaders = [td.text for td in soup2.select_one('table',{\"class\": \"tabledetail\"}).select('td:nth-of-type(1)') if not td.has_attr('class')]\n",
    "    AntennaValues = [td.text.strip() for td in soup2.select_one('table',{\"class\": \"tabledetail\"}).select('td:nth-of-type(2)')]\n",
    "    \n",
    "    if url[-2:]=='/1':\n",
    "        Antennaheaders2 = [td.text for td in soup2.select_one('table:nth-of-type(2)',{\"class\": \"tabledetail\"}).select('td:nth-of-type(1)') if not td.has_attr('class')]\n",
    "        AntennaValues2 = [td.text.strip() for td in soup2.select_one('table:nth-of-type(2)',{\"class\": \"tabledetail\"}).select('td:nth-of-type(2)')]\n",
    "    \n",
    "    #To_be_removed = ['Registration and Application Details - 1','Registration and Application Details - 2','Receiver Details', 'Registration and Application Details', 'Transmitter Details','Device Details','Assignment and Application Details']\n",
    "    \n",
    "    #for item in To_be_removed:\n",
    "     #   if item in Antennaheaders:\n",
    "    #        Antennaheaders.remove(item)\n",
    "     #   if item in Antennaheaders2:\n",
    "     #       Antennaheaders2.remove(item)\n",
    "     \n",
    "\n",
    "\n",
    "\n",
    "    AntennaDictionary = {Antennaheaders[i]: AntennaValues[i] for i in range(len(Antennaheaders))}\n",
    "    AntennaTable_toAdd = pd.DataFrame([AntennaDictionary])\n",
    "    AntennaTable = pd.concat([AntennaTable, AntennaTable_toAdd], ignore_index=True)\n",
    "    if url[-2:]=='/1':\n",
    "        AntennaTable_toAdd2 = pd.DataFrame([{Antennaheaders2[i]: AntennaValues2[i] for i in range(len(Antennaheaders))}])\n",
    "        AntennaTable = pd.concat([AntennaTable, AntennaTable_toAdd2], ignore_index=True)\n",
    "\n",
    "    #print(output.head())\n",
    "    \n",
    "    #AntennaTable = AntennaTable.append(AntennaDictionary, ignore_index=True)"
   ]
  },
  {
   "cell_type": "code",
   "execution_count": 2,
   "id": "5ec58f60",
   "metadata": {},
   "outputs": [],
   "source": [
    "##=============================================================================\n",
    "## ACMAscrapper V1.0.2\n",
    "##=============================================================================\n",
    "##=============================================================================\n",
    "##\n",
    "## Scrapper for Register of Radiocommunications Licences of Australian Communications and Media Authority\n",
    "# \n",
    "#@Author Haris Hassan\n",
    "#@Email haris.hassan@radhaz.com.au \n",
    "#@linkedin https://www.linkedin.com/in/hassanharis/\n",
    "#\n",
    "##=============================================================================\n",
    "\n",
    "# Import libraries\n",
    "import requests\n",
    "from bs4 import BeautifulSoup\n",
    "import pandas as pd\n",
    "pd.set_option('display.max_colwidth', None)"
   ]
  },
  {
   "cell_type": "code",
   "execution_count": 3,
   "id": "e81deba1",
   "metadata": {},
   "outputs": [],
   "source": [
    "####Replace Site URL\n",
    "site_url = 'https://web.acma.gov.au/pls/radcom/site_search.site_lookup?pSITE_ID=570900'"
   ]
  },
  {
   "cell_type": "code",
   "execution_count": 4,
   "id": "73e90143",
   "metadata": {},
   "outputs": [],
   "source": [
    "ACMApage = requests.get(site_url)\n",
    "soup = BeautifulSoup(ACMApage.text, 'lxml')\n",
    "table1 = soup.find('table',{\"class\": \"tablelist responsive\"})"
   ]
  },
  {
   "cell_type": "code",
   "execution_count": 5,
   "id": "f44e2592",
   "metadata": {},
   "outputs": [],
   "source": [
    "ACMAtable = soup.find('table',{\"class\": \"tablelist responsive\"})\n",
    "#links= [linkitem.get('href') for linkitem in table1.find_all('a', attrs={\"title\": \"Assignment Details\"})[1:]]\n",
    "ACMAheaders = [td.text.strip() for td in ACMAtable.select('th')]\n",
    "ACMAdata = pd.DataFrame(columns = ACMAheaders)\n",
    "\n",
    "ACMAlinks = []\n",
    "for j in ACMAtable.find_all('tr')[1:]:\n",
    "    ACMAValues = [tv.text.strip() for tv in j.find_all('td')]\n",
    "    ACMAdata.loc[len(ACMAdata)] = ACMAValues\n",
    "    ACMAlinks.append([tl.get('href') for tl in j.find_all('a')][0])\n",
    "ACMAdata.insert(1,'links', ACMAlinks )"
   ]
  },
  {
   "cell_type": "code",
   "execution_count": 6,
   "id": "9628abc6",
   "metadata": {},
   "outputs": [],
   "source": [
    "ACMAdatalinks = list( dict.fromkeys(ACMAdata['links']) )"
   ]
  },
  {
   "cell_type": "code",
   "execution_count": 7,
   "id": "cde69e49",
   "metadata": {},
   "outputs": [],
   "source": [
    "AntennaTableHeader = ['Licence Number', 'Antenna', 'Client','Device Type','Emission Center Frequency','Transmitter Power','Antenna Height (AGL)', \n",
    "                      'Antenna Polarisation','Antenna Azimuth', 'Antenna Tilt','Device Registration ID','Date Authorised']\n",
    "AntennaTable = pd.DataFrame(columns = AntennaTableHeader)\n",
    "\n",
    "\n",
    "for acmalink in ACMAdatalinks:\n",
    "    url = 'https://web.acma.gov.au'+ acmalink\n",
    "    # Create object page\n",
    "    page = requests.get(url)\n",
    "    soup2 = BeautifulSoup(page.text, 'lxml')\n",
    "    \n",
    "    Antennaheaders = [td.text for td in soup2.select_one('table',{\"class\": \"tabledetail\"}).select('td:nth-of-type(1)') if not td.has_attr('class')]\n",
    "    AntennaValues = [td.text.strip() for td in soup2.select_one('table',{\"class\": \"tabledetail\"}).select('td:nth-of-type(2)')]\n",
    "    \n",
    "    if url[-2:]=='/1':\n",
    "        Antennaheaders2 = [td.text for td in soup2.select_one('table:nth-of-type(2)',{\"class\": \"tabledetail\"}).select('td:nth-of-type(1)') if not td.has_attr('class')]\n",
    "        AntennaValues2 = [td.text.strip() for td in soup2.select_one('table:nth-of-type(2)',{\"class\": \"tabledetail\"}).select('td:nth-of-type(2)')]\n",
    "    \n",
    "    #To_be_removed = ['Registration and Application Details - 1','Registration and Application Details - 2','Receiver Details', 'Registration and Application Details', 'Transmitter Details','Device Details','Assignment and Application Details']\n",
    "    \n",
    "    #for item in To_be_removed:\n",
    "     #   if item in Antennaheaders:\n",
    "    #        Antennaheaders.remove(item)\n",
    "     #   if item in Antennaheaders2:\n",
    "     #       Antennaheaders2.remove(item)\n",
    "     \n",
    "\n",
    "\n",
    "\n",
    "    AntennaDictionary = {Antennaheaders[i]: AntennaValues[i] for i in range(len(Antennaheaders))}\n",
    "    AntennaTable_toAdd = pd.DataFrame([AntennaDictionary])\n",
    "    AntennaTable = pd.concat([AntennaTable, AntennaTable_toAdd], ignore_index=True)\n",
    "    if url[-2:]=='/1':\n",
    "        AntennaTable_toAdd2 = pd.DataFrame([{Antennaheaders2[i]: AntennaValues2[i] for i in range(len(Antennaheaders))}])\n",
    "        AntennaTable = pd.concat([AntennaTable, AntennaTable_toAdd2], ignore_index=True)\n",
    "\n",
    "    #print(output.head())\n",
    "    \n",
    "    #AntennaTable = AntennaTable.append(AntennaDictionary, ignore_index=True)"
   ]
  },
  {
   "cell_type": "code",
   "execution_count": 8,
   "id": "9b39441d",
   "metadata": {},
   "outputs": [],
   "source": [
    "display(AntennaTable[AntennaTableHeader])"
   ]
  },
  {
   "cell_type": "code",
   "execution_count": 9,
   "id": "69a38a04",
   "metadata": {},
   "outputs": [],
   "source": [
    "AntennaTableHeader = ['Licence Number', 'Antenna', 'Client','Device Type','Emission Center Frequency','Transmitter Power','Antenna Height (AGL)', \n",
    "                      'Antenna Polarisation','Antenna Azimuth', 'Antenna Tilt','Device Registration ID','Date Authorised']\n",
    "AntennaTable = pd.DataFrame(columns = AntennaTableHeader)\n",
    "\n",
    "\n",
    "for acmalink in ACMAdatalinks:\n",
    "    url = 'https://web.acma.gov.au'+ acmalink\n",
    "    # Create object page\n",
    "    page = requests.get(url)\n",
    "    soup2 = BeautifulSoup(page.text, 'lxml')\n",
    "    \n",
    "    Antennaheaders = [td.text for td in soup2.select_one('table',{\"class\": \"tabledetail\"}).select('td:nth-of-type(1)') if not td.has_attr('colspan')]\n",
    "    AntennaValues = [td.text.strip() for td in soup2.select_one('table',{\"class\": \"tabledetail\"}).select('td:nth-of-type(2)')]\n",
    "    \n",
    "    if url[-2:]=='/1':\n",
    "        Antennaheaders2 = [td.text for td in soup2.select_one('table:nth-of-type(2)',{\"class\": \"tabledetail\"}).select('td:nth-of-type(1)') if not td.has_attr('colspan')]\n",
    "        AntennaValues2 = [td.text.strip() for td in soup2.select_one('table:nth-of-type(2)',{\"class\": \"tabledetail\"}).select('td:nth-of-type(2)')]\n",
    "    \n",
    "    AntennaDictionary = {Antennaheaders[i]: AntennaValues[i] for i in range(len(Antennaheaders))}\n",
    "    AntennaTable_toAdd = pd.DataFrame([AntennaDictionary])\n",
    "    AntennaTable = pd.concat([AntennaTable, AntennaTable_toAdd], ignore_index=True)\n",
    "    if url[-2:]=='/1':\n",
    "        AntennaTable_toAdd2 = pd.DataFrame([{Antennaheaders2[i]: AntennaValues2[i] for i in range(len(Antennaheaders))}])\n",
    "        AntennaTable = pd.concat([AntennaTable, AntennaTable_toAdd2], ignore_index=True)\n",
    "\n",
    "    #print(output.head())\n",
    "    \n",
    "    #AntennaTable = AntennaTable.append(AntennaDictionary, ignore_index=True)"
   ]
  },
  {
   "cell_type": "code",
   "execution_count": 10,
   "id": "03762aac",
   "metadata": {},
   "outputs": [],
   "source": [
    "display(AntennaTable[AntennaTableHeader])"
   ]
  },
  {
   "cell_type": "code",
   "execution_count": 11,
   "id": "88fcc839",
   "metadata": {},
   "outputs": [],
   "source": [
    "##=============================================================================\n",
    "## ACMAscrapper V2.0.2\n",
    "##=============================================================================\n",
    "##=============================================================================\n",
    "##\n",
    "## Scrapper for Register of Radiocommunications Licences of Australian Communications and Media Authority\n",
    "# \n",
    "#@Author Haris Hassan\n",
    "#@Email haris.hassan@radhaz.com.au \n",
    "#@linkedin https://www.linkedin.com/in/hassanharis/\n",
    "#\n",
    "##=============================================================================\n",
    "\n",
    "# Import libraries\n",
    "import requests\n",
    "from bs4 import BeautifulSoup\n",
    "import pandas as pd\n",
    "pd.set_option('display.max_colwidth', None)"
   ]
  },
  {
   "cell_type": "code",
   "execution_count": 12,
   "id": "ac4b9746",
   "metadata": {},
   "outputs": [],
   "source": [
    "####Replace Site URL\n",
    "site_url = 'https://web.acma.gov.au/pls/radcom/site_search.site_lookup?pSITE_ID=402015'"
   ]
  },
  {
   "cell_type": "code",
   "execution_count": 13,
   "id": "15e1958d",
   "metadata": {},
   "outputs": [],
   "source": [
    "ACMApage = requests.get(site_url)\n",
    "soup = BeautifulSoup(ACMApage.text, 'lxml')\n",
    "table1 = soup.find('table',{\"class\": \"tablelist responsive\"})"
   ]
  },
  {
   "cell_type": "code",
   "execution_count": 14,
   "id": "ae7c0a86",
   "metadata": {},
   "outputs": [],
   "source": [
    "ACMAtable = soup.find('table',{\"class\": \"tablelist responsive\"})\n",
    "#links= [linkitem.get('href') for linkitem in table1.find_all('a', attrs={\"title\": \"Assignment Details\"})[1:]]\n",
    "ACMAheaders = [td.text.strip() for td in ACMAtable.select('th')]\n",
    "ACMAdata = pd.DataFrame(columns = ACMAheaders)\n",
    "\n",
    "ACMAlinks = []\n",
    "for j in ACMAtable.find_all('tr')[1:]:\n",
    "    ACMAValues = [tv.text.strip() for tv in j.find_all('td')]\n",
    "    ACMAdata.loc[len(ACMAdata)] = ACMAValues\n",
    "    ACMAlinks.append([tl.get('href') for tl in j.find_all('a')][0])\n",
    "ACMAdata.insert(1,'links', ACMAlinks )"
   ]
  },
  {
   "cell_type": "code",
   "execution_count": 15,
   "id": "75f50a7b",
   "metadata": {},
   "outputs": [],
   "source": [
    "ACMAdatalinks = list( dict.fromkeys(ACMAdata['links']) )"
   ]
  },
  {
   "cell_type": "code",
   "execution_count": 16,
   "id": "8084d61b",
   "metadata": {},
   "outputs": [],
   "source": [
    "AntennaTableHeader = ['Licence Number', 'Antenna', 'Client','Device Type','Emission Center Frequency','Transmitter Power','Antenna Height (AGL)', \n",
    "                      'Antenna Polarisation','Antenna Azimuth', 'Antenna Tilt','Device Registration ID','Date Authorised']\n",
    "AntennaTable = pd.DataFrame(columns = AntennaTableHeader)\n",
    "\n",
    "\n",
    "for acmalink in ACMAdatalinks:\n",
    "    url = 'https://web.acma.gov.au'+ acmalink\n",
    "    # Create object page\n",
    "    page = requests.get(url)\n",
    "    soup2 = BeautifulSoup(page.text, 'lxml')\n",
    "    \n",
    "    Antennaheaders = [td.text for td in soup2.select_one('table',{\"class\": \"tabledetail\"}).select('td:nth-of-type(1)') if not td.has_attr('colspan')]\n",
    "    AntennaValues = [td.text.strip() for td in soup2.select_one('table',{\"class\": \"tabledetail\"}).select('td:nth-of-type(2)')]\n",
    "    \n",
    "    if url[-2:]=='/1':\n",
    "        Antennaheaders2 = [td.text for td in soup2.select_one('table:nth-of-type(2)',{\"class\": \"tabledetail\"}).select('td:nth-of-type(1)') if not td.has_attr('colspan')]\n",
    "        AntennaValues2 = [td.text.strip() for td in soup2.select_one('table:nth-of-type(2)',{\"class\": \"tabledetail\"}).select('td:nth-of-type(2)')]\n",
    "    \n",
    "    AntennaDictionary = {Antennaheaders[i]: AntennaValues[i] for i in range(len(Antennaheaders))}\n",
    "    AntennaTable_toAdd = pd.DataFrame([AntennaDictionary])\n",
    "    AntennaTable = pd.concat([AntennaTable, AntennaTable_toAdd], ignore_index=True)\n",
    "    \n",
    "    if url[-2:]=='/1':\n",
    "        AntennaTable_toAdd2 = pd.DataFrame([{Antennaheaders2[i]: AntennaValues2[i] for i in range(len(Antennaheaders))}])\n",
    "        AntennaTable = pd.concat([AntennaTable, AntennaTable_toAdd2], ignore_index=True)"
   ]
  },
  {
   "cell_type": "code",
   "execution_count": 17,
   "id": "4d42549f",
   "metadata": {},
   "outputs": [],
   "source": [
    "display(AntennaTable[AntennaTableHeader])"
   ]
  },
  {
   "cell_type": "code",
   "execution_count": 18,
   "id": "26f2ca99",
   "metadata": {},
   "outputs": [],
   "source": [
    "AntennaTable.to_excel(r'C:\\Users\\Mewtwo\\Desktop'+'\\\\'+ AntennaDictionary['Site'] + '.xlsx', columns = AntennaTableHeader, index=False)"
   ]
  },
  {
   "cell_type": "code",
   "execution_count": 19,
   "id": "bbcdbb25",
   "metadata": {},
   "outputs": [],
   "source": [
    "#display(AntennaTable[AntennaTableHeader])"
   ]
  },
  {
   "cell_type": "code",
   "execution_count": 20,
   "id": "f5cea733",
   "metadata": {},
   "outputs": [],
   "source": [
    "%notebook \"C:\\Users\\Mewtwo\\Documents\\Python\\ACMAscrapper.ipynb\""
   ]
  }
 ],
 "metadata": {},
 "nbformat": 4,
 "nbformat_minor": 5
}
