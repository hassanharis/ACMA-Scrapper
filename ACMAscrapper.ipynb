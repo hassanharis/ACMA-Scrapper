{
 "cells": [
  {
   "cell_type": "markdown",
   "id": "cffa92ae",
   "metadata": {},
   "source": [
    "# ACMA Scrapper\n",
    "##### ©Haris Hassan"
   ]
  },
  {
   "cell_type": "markdown",
   "id": "3cfccd50",
   "metadata": {},
   "source": [
    "## Libraries"
   ]
  },
  {
   "cell_type": "code",
   "execution_count": null,
   "id": "dbf8f62f-c03f-463e-9bef-7f958f3037fb",
   "metadata": {},
   "outputs": [],
   "source": [
    "##=============================================================================\n",
    "## ACMAscrapper V6.0.2\n",
    "##=============================================================================\n",
    "##\n",
    "## Scrapper for Register of Radiocommunications Licences of Australian Communications and Media Authority\n",
    "# \n",
    "#Author Haris Hassan\n",
    "#Email haris.hassan@radhaz.com.au \n",
    "#linkedin https://www.linkedin.com/in/hassanharis/\n",
    "#\n",
    "##=============================================================================\n",
    "# Import libraries\n",
    "\n",
    "import re\n",
    "import time\n",
    "import requests\n",
    "import random\n",
    "import string\n",
    "from bs4 import BeautifulSoup\n",
    "import pandas as pd\n",
    "pd.set_option('display.max_colwidth', None)\n",
    "#Reset index of dataframe after sorting\n",
    "import cProfile, pstats\n",
    "\n"
   ]
  },
  {
   "cell_type": "markdown",
   "id": "7e95bb59",
   "metadata": {},
   "source": [
    "## User Input"
   ]
  },
  {
   "cell_type": "code",
   "execution_count": null,
   "id": "e7f3e9a8-b1e3-465b-8625-eb5955d7fc00",
   "metadata": {},
   "outputs": [],
   "source": [
    "#### Replace Site \n",
    "sitecode = 35842\n",
    "\n",
    "##### Filters\n",
    "TRANSMITTER_ONLY = True\n",
    "\n",
    "THIS_CLIENT_ONLY = False\n",
    "THIS_CLIENT_ONLY_NAME = ''\n",
    "\n",
    "IGNORE_CLIENT = False\n",
    "IGNORE_CLIENT_NAME = ''\n",
    "\n",
    "FREQUENCY_FILTER = False\n",
    "MIN_FREQ = 650\n",
    "MAX_FREQ = 3800"
   ]
  },
  {
   "cell_type": "markdown",
   "id": "28db4011",
   "metadata": {},
   "source": [
    "## Functions"
   ]
  },
  {
   "cell_type": "code",
   "execution_count": null,
   "id": "6c30b9aa",
   "metadata": {},
   "outputs": [],
   "source": [
    "def AssignmentsFilter(ACMAdata, TRANSMITTER_ONLY, THIS_CLIENT_ONLY, \n",
    "                       THIS_CLIENT_ONLY_NAME, IGNORE_CLIENT, IGNORE_CLIENT_NAME,\n",
    "                      FREQUENCY_FILTER, MAX_FREQ, MIN_FREQ):\n",
    "    TO_RETURN = ACMAdata\n",
    "    if TRANSMITTER_ONLY:\n",
    "        TO_RETURN = TO_RETURN.loc[TO_RETURN['T/R']=='T']\n",
    "    if THIS_CLIENT_ONLY:\n",
    "        TO_RETURN = TO_RETURN.loc[TO_RETURN['Client']==THIS_CLIENT_ONLY_NAME]\n",
    "    if IGNORE_CLIENT:\n",
    "        TO_RETURN = TO_RETURN.loc[TO_RETURN['Client']!=IGNORE_CLIENT_NAME]\n",
    "    if FREQUENCY_FILTER:\n",
    "        TO_RETURN = TO_RETURN.loc[(TO_RETURN['Frequency (MHz)'] < MIN_FREQ) | (TO_RETURN['Frequency (MHz)']>MAX_FREQ)]\n",
    "    return TO_RETURN"
   ]
  },
  {
   "cell_type": "code",
   "execution_count": null,
   "id": "cbfa6d4a",
   "metadata": {},
   "outputs": [],
   "source": [
    "def FreqToMhz(FREQ):\n",
    "    frequency = []\n",
    "    for x in FREQ:\n",
    "        if 'GHz' in x:\n",
    "            frequency.append(float(re.sub(' GHz','',x))*1000)\n",
    "        elif 'MHz' in x:\n",
    "            frequency.append(float(re.sub(' MHz','',x)))\n",
    "    return frequency"
   ]
  },
  {
   "cell_type": "code",
   "execution_count": null,
   "id": "bd5b7135",
   "metadata": {},
   "outputs": [],
   "source": [
    "def AssignmentsNextPage(ACMAdata, ACMAwebpage):\n",
    "\n",
    "    AssignmentsSoup = BeautifulSoup(ACMAwebpage.text, 'lxml')\n",
    "    Assignments = AssignmentsSoup.find('table',{\"class\": \"tablelist responsive\"})\n",
    "    AssignmentsHeaders = [td.text.strip() for td in Assignments.select('th')]\n",
    "    ACMAdatap2 = pd.DataFrame(columns = AssignmentsHeaders)\n",
    "\n",
    "    ACMAlinks = []\n",
    "    for j in Assignments.find_all('tr')[1:]:\n",
    "        AssignmentsValues = [tv.text.strip() for tv in j.find_all('td')]\n",
    "        ACMAdatap2.loc[len(ACMAdatap2)] = AssignmentsValues\n",
    "        ACMAlinks.append([tl.get('href') for tl in j.find_all('a')][0])\n",
    "    ACMAdatap2.insert(1,'links', ACMAlinks)\n",
    "    ACMAdata = pd.concat([ACMAdata, ACMAdatap2], axis=0)\n",
    "\n",
    "    #Check if there's another Page\n",
    "    NEXT_PAGE_LINK = ''.join(['https://web.acma.gov.au' + x for x in  [tl.get('href') for tl in AssignmentsSoup.findAll('a',{'title':\"Next Page\"})]])\n",
    "\n",
    "    if NEXT_PAGE_LINK and NEXT_PAGE_LINK.strip():\n",
    "        NEXT_PAGE_LINK = requests.get(NEXT_PAGE_LINK)\n",
    "        print(NEXT_PAGE_LINK)\n",
    "        return AssignmentsNextPage(ACMAdata, NEXT_PAGE_LINK)\n",
    "    else:\n",
    "        return ACMAdata"
   ]
  },
  {
   "cell_type": "code",
   "execution_count": null,
   "id": "bb8c38d3",
   "metadata": {},
   "outputs": [],
   "source": [
    "UserAgents = [\n",
    "    'Mozilla/5.0 (Linux; Android 12; SM-S906N Build/QP1A.190711.020; wv) AppleWebKit/537.36 (KHTML, like Gecko) Version/4.0 Chrome/80.0.3987.119 Mobile Safari/537.36',\n",
    "    'Mozilla/5.0 (Linux; Android 10; SM-G996U Build/QP1A.190711.020; wv) AppleWebKit/537.36 (KHTML, like Gecko) Version/4.0 Mobile Safari/537.36',\n",
    "    'Mozilla/5.0 (Linux; Android 10; SM-G980F Build/QP1A.190711.020; wv) AppleWebKit/537.36 (KHTML, like Gecko) Version/4.0 Chrome/78.0.3904.96 Mobile Safari/537.36',\n",
    "    'Mozilla/5.0 (Linux; Android 9; SM-G973U Build/PPR1.180610.011) AppleWebKit/537.36 (KHTML, like Gecko) Chrome/69.0.3497.100 Mobile Safari/537.36',\n",
    "    'Mozilla/5.0 (Linux; Android 8.0.0; SM-G960F Build/R16NW) AppleWebKit/537.36 (KHTML, like Gecko) Chrome/62.0.3202.84 Mobile Safari/537.36',\n",
    "    'Mozilla/5.0 (Linux; Android 12; Pixel 6 Build/SD1A.210817.023; wv) AppleWebKit/537.36 (KHTML, like Gecko) Version/4.0 Chrome/94.0.4606.71 Mobile Safari/537.36',\n",
    "    'Mozilla/5.0 (Linux; Android 11; Pixel 5 Build/RQ3A.210805.001.A1; wv) AppleWebKit/537.36 (KHTML, like Gecko) Version/4.0 Chrome/92.0.4515.159 Mobile Safari/537.36',\n",
    "    'Mozilla/5.0 (iPhone14,3; U; CPU iPhone OS 15_0 like Mac OS X) AppleWebKit/602.1.50 (KHTML, like Gecko) Version/10.0 Mobile/19A346 Safari/602.1',\n",
    "    'Mozilla/5.0 (Windows NT 6.1; WOW64) AppleWebKit/537.36 (KHTML, like Gecko) Chrome/47.0.2526.111 Safari/537.36',\n",
    "    'Mozilla/5.0 (Linux; Android 5.0.2; SAMSUNG SM-T550 Build/LRX22G) AppleWebKit/537.36 (KHTML, like Gecko) SamsungBrowser/3.3 Chrome/38.0.2125.102 Safari/537.36',\n",
    "    'Mozilla/5.0 (Linux; Android 7.0; SM-T827R4 Build/NRD90M) AppleWebKit/537.36 (KHTML, like Gecko) Chrome/60.0.3112.116 Safari/537.36',\n",
    "    'Mozilla/5.0 (Linux; Android 7.0; Pixel C Build/NRD90M; wv) AppleWebKit/537.36 (KHTML, like Gecko) Version/4.0 Chrome/52.0.2743.98 Safari/537.36',\n",
    "    'Mozilla/5.0 (Linux; Android 11; Lenovo YT-J706X) AppleWebKit/537.36 (KHTML, like Gecko) Chrome/96.0.4664.45 Safari/537.36',\n",
    "    'Mozilla/5.0 (Linux; Android 12; SM-X906C Build/QP1A.190711.020; wv) AppleWebKit/537.36 (KHTML, like Gecko) Version/4.0 Chrome/80.0.3987.119 Mobile Safari/537.36',        \n",
    "    'Mozilla/5.0 (Windows NT 10.0; Win64; x64) AppleWebKit/537.36 (KHTML, like Gecko) Chrome/42.0.2311.135 Safari/537.36 Edge/12.246'\n",
    "]"
   ]
  },
  {
   "cell_type": "code",
   "execution_count": null,
   "id": "495cb178-94c1-4d8e-829d-808aeca692fc",
   "metadata": {},
   "outputs": [],
   "source": [
    "site_url = 'https://web.acma.gov.au/rrl/site_search.site_lookup?pSITE_ID=' + str(sitecode)\n",
    "ACMAwebpage = requests.get(site_url, headers= {'User-Agent': UserAgents[random.randint(0,len(UserAgents)-1)]})\n",
    "soup = BeautifulSoup(ACMAwebpage.text, 'lxml')\n",
    "\n",
    "try:\n",
    "    SiteDetailsTitle = [td.text for td in soup.select_one('table',{\"class\": \"tabledetail\"}).select('td:nth-of-type(1)')]\n",
    "    SiteDetails = [td.text.strip() for td in soup.select_one('table',{\"class\": \"tabledetail\"}).select('td:nth-of-type(2)')]\n",
    "except Exception as e:\n",
    "    print (e)\n",
    "    pass"
   ]
  },
  {
   "cell_type": "code",
   "execution_count": null,
   "id": "ef2b21fc",
   "metadata": {},
   "outputs": [],
   "source": [
    "SiteDetailsDictionary = {SiteDetailsTitle[i]: SiteDetails[i] for i in range(len(SiteDetailsTitle))}\n",
    "SiteDetailsDictionary['Location'] = ' '.join(SiteDetailsDictionary['Location'].split())"
   ]
  },
  {
   "cell_type": "code",
   "execution_count": null,
   "id": "c4d44bb4",
   "metadata": {},
   "outputs": [],
   "source": [
    "SiteDetailsDictionary"
   ]
  },
  {
   "cell_type": "code",
   "execution_count": null,
   "id": "8c6a44e9-cfb1-45c8-a6e6-3b48adc08273",
   "metadata": {},
   "outputs": [],
   "source": [
    "ACMAtable = soup.find('table',{\"class\": \"tablelist responsive\"})\n",
    "ACMAheaders = [td.text.strip() for td in ACMAtable.select('th')]\n",
    "ACMAdata = pd.DataFrame(columns = ACMAheaders)"
   ]
  },
  {
   "cell_type": "code",
   "execution_count": null,
   "id": "accc230a",
   "metadata": {},
   "outputs": [],
   "source": [
    "ACMAdata = AssignmentsNextPage(ACMAdata, ACMAwebpage)\n",
    "ACMAdata = ACMAdata.reset_index(drop=True)"
   ]
  },
  {
   "cell_type": "code",
   "execution_count": null,
   "id": "306310ce",
   "metadata": {},
   "outputs": [],
   "source": [
    "ACMAdata['Frequency (MHz)'] = FreqToMhz(ACMAdata['Frequency'])\n",
    "#ACMAdata_final['Frequency (MHz)']\n",
    "#ACMAdata_final.loc[(ACMAdata_final['Frequency (MHz)'] < 650) | (ACMAdata_final['Frequency (MHz)']>3800), 'links']"
   ]
  },
  {
   "cell_type": "code",
   "execution_count": null,
   "id": "3a162674",
   "metadata": {},
   "outputs": [],
   "source": [
    "AcmaDataFiltered = AssignmentsFilter(ACMAdata, TRANSMITTER_ONLY, THIS_CLIENT_ONLY, THIS_CLIENT_ONLY_NAME, IGNORE_CLIENT, IGNORE_CLIENT_NAME,FREQUENCY_FILTER, MAX_FREQ, MIN_FREQ)"
   ]
  },
  {
   "cell_type": "code",
   "execution_count": null,
   "id": "4768c5cd",
   "metadata": {},
   "outputs": [],
   "source": [
    "#removing duplicates\n",
    "ACMAdatalinks = list( dict.fromkeys(AcmaDataFiltered['links']) )\n",
    "display(ACMAdatalinks)"
   ]
  },
  {
   "cell_type": "markdown",
   "id": "ed5176e2",
   "metadata": {},
   "source": [
    "## Pulling Antennas Details from Web links "
   ]
  },
  {
   "cell_type": "code",
   "execution_count": null,
   "id": "3cca65b8-cd0c-485e-b1e4-574302ab9c62",
   "metadata": {
    "scrolled": true
   },
   "outputs": [],
   "source": [
    "profiler = cProfile.Profile()\n",
    "profiler.enable()\n",
    "\n",
    "AntennaTableHeader = ['Device Registration ID', 'Antenna', 'Client','Device Type','Emission Center Frequency','Transmitter Power',\n",
    "                      'Antenna Height (AGL)', \n",
    "                      'Antenna Polarisation','Antenna Azimuth', 'Antenna Tilt','Licence Number','Date Authorised',\n",
    "                      'Destination Link']\n",
    "AntennaTable = pd.DataFrame(columns = AntennaTableHeader)\n",
    "NotFoundLinks = []\n",
    "\n",
    "for acmalink in ACMAdatalinks:\n",
    "    st = time.time()\n",
    "    try:\n",
    "        url = 'https://web.acma.gov.au'+ acmalink\n",
    "        headstr = UserAgents[random.randint(0,len(UserAgents)-1)]\n",
    "        page = requests.get(url, headers= {'User-Agent': headstr})\n",
    "        soup2 = BeautifulSoup(page.text, 'lxml')\n",
    "\n",
    "        try:\n",
    "            Antennaheaders = [td.text for td in soup2.select_one('table',{\"class\": \"tabledetail\"}).select('td:nth-of-type(1)') if not td.has_attr('colspan')]\n",
    "            AntennaValues = [td.text.strip() for td in soup2.select_one('table',{\"class\": \"tabledetail\"}).select('td:nth-of-type(2)')]\n",
    "        except Exception as e:\n",
    "            print (e)\n",
    "            continue\n",
    "\n",
    "        LinkToList = []\n",
    "        LinkToTable = soup2.find(\"table\", {\"class\": \"tablelist linked-responsive\"})\n",
    "        if LinkToTable:\n",
    "            for j in LinkToTable.find_all('tr')[1:]:\n",
    "                LinkToList.append([tv.text.strip() for tv in j.select('td:nth-of-type(5)')] )\n",
    "\n",
    "        if url[-2:]=='/1':\n",
    "            try:\n",
    "                Antennaheaders2 = [td.text for td in soup2.select_one('table:nth-of-type(2)',{\"class\": \"tabledetail\"}).select('td:nth-of-type(1)') if not td.has_attr('colspan')]\n",
    "                AntennaValues2 = [td.text.strip() for td in soup2.select_one('table:nth-of-type(2)',{\"class\": \"tabledetail\"}).select('td:nth-of-type(2)')]\n",
    "            except Exception as e:\n",
    "                print(e)\n",
    "                print(acmalink)\n",
    "                continue\n",
    "\n",
    "        if not LinkToList:\n",
    "            AntennaValues.extend(['n/a'])\n",
    "            if url[-2:]=='/1':\n",
    "                AntennaValues2.extend(['n/a'])\n",
    "\n",
    "        if LinkToList:\n",
    "            LinkToListTemp = []\n",
    "            for x in LinkToList:\n",
    "                for j in x:\n",
    "                    LinkToListTemp.append([' '.join(p) for p in [j.split()[:]]])\n",
    "            LinkToListTemp=list(dict.fromkeys([''.join(p) for p in LinkToListTemp]))\n",
    "            for todel in LinkToListTemp:\n",
    "                if SiteDetailsDictionary['Location'] in todel:\n",
    "                    LinkToListTemp.remove(todel)\n",
    "            AntennaValues.extend([str(LinkToListTemp)])\n",
    "            if url[-2:]=='/1':\n",
    "              AntennaValues2.extend([str(LinkToListTemp)])\n",
    "        Antennaheaders.extend(['Destination Link'])\n",
    "        if url[-2:]=='/1':\n",
    "          Antennaheaders2.extend(['Destination Link'])\n",
    "\n",
    "\n",
    "        AntennaDictionary = {Antennaheaders[i]: AntennaValues[i] for i in range(len(Antennaheaders))}\n",
    "        AntennaTable_toAdd = pd.DataFrame([AntennaDictionary])\n",
    "        AntennaTable = pd.concat([AntennaTable, AntennaTable_toAdd], ignore_index=True)\n",
    "\n",
    "        if url[-2:]=='/1':\n",
    "            AntennaTable_toAdd2 = pd.DataFrame([{Antennaheaders2[i]: AntennaValues2[i] for i in range(len(Antennaheaders2))}])\n",
    "            AntennaTable = pd.concat([AntennaTable, AntennaTable_toAdd2], ignore_index=True)\n",
    "    except Exception as e:\n",
    "        print(e)\n",
    "        print('\\nException')\n",
    "        print(url)\n",
    "        print('\\n')\n",
    "        NotFoundLinks.append(url)\n",
    "        continue\n",
    "    et = time.time()\n",
    "      # get the execution time\n",
    "    elapsed_time = et - st\n",
    "    print(url)\n",
    "    print(headstr)\n",
    "    print('Execution time:', elapsed_time, 'seconds')\n",
    "\n",
    "profiler.disable()"
   ]
  },
  {
   "cell_type": "markdown",
   "id": "575424f0",
   "metadata": {},
   "source": [
    "## Formatting the Data"
   ]
  },
  {
   "cell_type": "code",
   "execution_count": null,
   "id": "77f3cfe3",
   "metadata": {},
   "outputs": [],
   "source": [
    "AntennaTable = AntennaTable.fillna('')\n",
    "AntennaTable['Antenna']=([''.join(x[2].title() +' '+ x[1] + ' '+ x[0].title()) for x in AntennaTable['Antenna'].str.split(',', 2)])\n",
    "\n",
    "if 'EFL ID' in AntennaTable:\n",
    "    AntennaTable['Device Registration ID'] = AntennaTable['Device Registration ID'].astype(str) + AntennaTable['EFL ID']\n"
   ]
  },
  {
   "cell_type": "code",
   "execution_count": null,
   "id": "fb54840c",
   "metadata": {},
   "outputs": [],
   "source": [
    "  \n",
    "AntennaTable['Antenna']= AntennaTable['Antenna'].str.strip()\n",
    "AntennaTable['Antenna']= AntennaTable['Antenna'].str.replace('Rf Industries', 'RFI')\n",
    "AntennaTable['Antenna']= AntennaTable['Antenna'].str.replace('Parallel Array Of Vertical Dipoles', 'Vertical Dipole Array')\n",
    "\n",
    "#AntennaTable['Client']=AntennaTable['Client'].apply(lambda x: x.title())\n",
    "AntennaTable['Client']=AntennaTable['Client'].str.replace('Limited', 'Ltd')\n",
    "AntennaTable['Client']=AntennaTable['Client'].str.replace('New South Wales Government Telecommunications Authority', 'NSWTA')\n",
    "AntennaTable['Date Authorised']=([''.join(x[2] +'-'+ x[1] + '-'+ x[0].title()) for x in AntennaTable['Date Authorised'].str.split('/', 2)])\n",
    "\n",
    "AntennaTable['Date Authorised']=AntennaTable['Date Authorised'].str.replace('Jan', '01')\n",
    "AntennaTable['Date Authorised']=AntennaTable['Date Authorised'].str.replace('Feb', '02')\n",
    "AntennaTable['Date Authorised']=AntennaTable['Date Authorised'].str.replace('Mar', '03')\n",
    "AntennaTable['Date Authorised']=AntennaTable['Date Authorised'].str.replace('Apr', '04')\n",
    "AntennaTable['Date Authorised']=AntennaTable['Date Authorised'].str.replace('May', '05')\n",
    "AntennaTable['Date Authorised']=AntennaTable['Date Authorised'].str.replace('Jun', '06')\n",
    "AntennaTable['Date Authorised']=AntennaTable['Date Authorised'].str.replace('Jul', '07')\n",
    "AntennaTable['Date Authorised']=AntennaTable['Date Authorised'].str.replace('Aug', '08')\n",
    "AntennaTable['Date Authorised']=AntennaTable['Date Authorised'].str.replace('Sep', '09')\n",
    "AntennaTable['Date Authorised']=AntennaTable['Date Authorised'].str.replace('Oct', '10')\n",
    "AntennaTable['Date Authorised']=AntennaTable['Date Authorised'].str.replace('Nov', '11')\n",
    "AntennaTable['Date Authorised']=AntennaTable['Date Authorised'].str.replace('Dec', '12')\n",
    "\n",
    "AntennaTable['Freq (MHz)'] = FreqToMhz(AntennaTable['Emission Center Frequency'])\n"
   ]
  },
  {
   "cell_type": "code",
   "execution_count": null,
   "id": "d76882b4-d2cc-4da8-8dc8-68dc2a9f9582",
   "metadata": {},
   "outputs": [],
   "source": [
    "\n",
    "\n",
    "Renamed_headers = ['Device ID', 'Antenna', 'Client','Type','Freq (MHz)','Power','Height', \n",
    "                      'Polarisation','Azimuth', 'Tilt','Licence','Date Authorised','Destination Link']\n",
    "\n",
    "AntennaTable_export = AntennaTable\n",
    "AntennaTable_export = AntennaTable_export.rename(columns={'Device Registration ID': 'Device ID', 'Device Type': 'Type', \n",
    "                                                          'Emission Center Frequency': 'Frequency'\n",
    "                                                          ,'Transmitter Power': 'Power'\n",
    "                                                          , 'Antenna Height (AGL)': 'Height', \n",
    "                                                          'Antenna Polarisation': 'Polarisation', \n",
    "                                                          'Antenna Azimuth': 'Azimuth',\n",
    "                                                          'Licence Number': 'Licence','Antenna Tilt': 'Tilt'})\n",
    "\n",
    "#AntennaTable_export = AntennaTable_export.rename(columns= dict(zip(Antennaheaders, Renamed_headers)))\n",
    "\n",
    "\n",
    "AntennaTable_export = AntennaTable_export.reset_index(drop=True)\n",
    "AntennaTable_export.index += 1\n",
    "display(AntennaTable_export[Renamed_headers])\n"
   ]
  },
  {
   "cell_type": "code",
   "execution_count": null,
   "id": "d28a19a8",
   "metadata": {},
   "outputs": [],
   "source": [
    "display(NotFoundLinks)"
   ]
  },
  {
   "cell_type": "markdown",
   "id": "951acd0f",
   "metadata": {},
   "source": [
    "## Export"
   ]
  },
  {
   "cell_type": "code",
   "execution_count": null,
   "id": "53863af6-89e8-4efa-aae4-d548353ad645",
   "metadata": {},
   "outputs": [],
   "source": [
    "AntennaTable_export.to_excel(r'C:\\Users\\Mewtwo\\Desktop'+'\\\\ACMA '+ str(sitecode) + \" \"+ re.sub(\"[\\\\\\\\/]\", \" \", AntennaDictionary['Site']) + '.xlsx', columns = Renamed_headers, index=True)"
   ]
  },
  {
   "cell_type": "code",
   "execution_count": null,
   "id": "dc9c4243",
   "metadata": {},
   "outputs": [],
   "source": [
    "stats = pstats.Stats(profiler).sort_stats('ncalls')\n",
    "stats.print_stats()"
   ]
  },
  {
   "cell_type": "code",
   "execution_count": null,
   "id": "17b090a4",
   "metadata": {},
   "outputs": [],
   "source": [
    "#AntennaTable_export.to_html(r'C:\\Users\\Mewtwo\\Desktop\\Antennadata.html', columns = Renamed_headers, index=True)\n",
    "#import subprocess\n",
    "#subprocess.call('wkhtmltoimage -f png --width 0 Antennadata.html Antennadata.png', shell=True)"
   ]
  }
 ],
 "metadata": {
  "kernelspec": {
   "display_name": "Python 3",
   "language": "python",
   "name": "python3"
  },
  "language_info": {
   "codemirror_mode": {
    "name": "ipython",
    "version": 3
   },
   "file_extension": ".py",
   "mimetype": "text/x-python",
   "name": "python",
   "nbconvert_exporter": "python",
   "pygments_lexer": "ipython3",
   "version": "3.7.16"
  }
 },
 "nbformat": 4,
 "nbformat_minor": 5
}
